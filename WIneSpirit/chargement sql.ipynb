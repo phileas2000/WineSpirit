{
 "cells": [
  {
   "cell_type": "code",
   "execution_count": 1,
   "id": "935c3404",
   "metadata": {},
   "outputs": [],
   "source": [
    "import pandas as pd\n",
    "import sqlite3 as sql"
   ]
  },
  {
   "cell_type": "code",
   "execution_count": 2,
   "id": "364b3be0",
   "metadata": {},
   "outputs": [],
   "source": [
    "conn = sql.connect(\"databaseWine.db\")\n",
    "cursor = conn.cursor()"
   ]
  },
  {
   "cell_type": "code",
   "execution_count": 3,
   "id": "4c36f3b4",
   "metadata": {},
   "outputs": [
    {
     "name": "stderr",
     "output_type": "stream",
     "text": [
      "C:\\Users\\Simplon 1\\Anaconda3\\lib\\site-packages\\openpyxl\\worksheet\\_reader.py:312: UserWarning: Unknown extension is not supported and will be removed\n",
      "  warn(msg)\n"
     ]
    }
   ],
   "source": [
    "data = pd.read_excel(r\"erp.xlsx\")\n",
    "cursor.execute(\"DROP TABLE IF EXISTS erp\")\n",
    "data.to_sql('erp',conn)\n"
   ]
  },
  {
   "cell_type": "code",
   "execution_count": 19,
   "id": "2f8e75ba",
   "metadata": {},
   "outputs": [
    {
     "name": "stdout",
     "output_type": "stream",
     "text": [
      "1513\n",
      "714\n",
      "                     sku  virtual  downloadable  rating_count  average_rating  \\\n",
      "0    bon-cadeau-25-euros        0             0             0             0.0   \n",
      "1                  15298        0             0             0             0.0   \n",
      "2                  15296        0             0             0             0.0   \n",
      "3                  15300        0             0             0             0.0   \n",
      "4                  19814        0             0             0             0.0   \n",
      "..                   ...      ...           ...           ...             ...   \n",
      "762                16135        0             0             0             0.0   \n",
      "767                15891        0             0             0             0.0   \n",
      "768                15887        0             0             0             0.0   \n",
      "797              13127-1        0             0             0             0.0   \n",
      "798                16230        0             0             0             0.0   \n",
      "\n",
      "     total_sales tax_status  post_author           post_date  \\\n",
      "0           10.0    taxable          1.0 2018-06-01 13:53:46   \n",
      "1            6.0    taxable          2.0 2018-02-08 12:58:52   \n",
      "2            0.0    taxable          2.0 2018-02-08 13:49:41   \n",
      "3            0.0    taxable          2.0 2018-02-08 14:08:36   \n",
      "4            3.0    taxable          2.0 2018-02-09 14:01:05   \n",
      "..           ...        ...          ...                 ...   \n",
      "762          5.0    taxable          2.0 2020-04-25 13:22:38   \n",
      "767          0.0    taxable          2.0 2020-05-02 14:53:40   \n",
      "768          0.0    taxable          2.0 2020-05-02 15:00:54   \n",
      "797          0.0    taxable          2.0 2020-06-09 15:42:04   \n",
      "798          0.0    taxable          2.0 2020-07-20 11:00:00   \n",
      "\n",
      "          post_date_gmt  ... comment_status ping_status  \\\n",
      "0   2018-06-01 11:53:46  ...         closed      closed   \n",
      "1   2018-02-08 11:58:52  ...         closed      closed   \n",
      "2   2018-02-08 12:49:41  ...         closed      closed   \n",
      "3   2018-02-08 13:08:36  ...         closed      closed   \n",
      "4   2018-02-09 13:01:05  ...         closed      closed   \n",
      "..                  ...  ...            ...         ...   \n",
      "762 2020-04-25 11:22:38  ...         closed      closed   \n",
      "767 2020-05-02 12:53:40  ...         closed      closed   \n",
      "768 2020-05-02 13:00:54  ...         closed      closed   \n",
      "797 2020-06-09 13:42:04  ...         closed      closed   \n",
      "798 2020-07-20 09:00:00  ...         closed      closed   \n",
      "\n",
      "                                             post_name       post_modified  \\\n",
      "0                               bon-cadeau-de-25-euros 2018-06-01 14:13:57   \n",
      "1          pierre-jean-villa-saint-joseph-preface-2018 2019-12-30 09:30:29   \n",
      "2            pierre-jean-villa-saint-joseph-tilde-2017 2019-12-21 09:00:17   \n",
      "3    pierre-jean-villa-croze-hermitage-accroche-coe... 2020-06-26 18:15:03   \n",
      "4                    pierre-jean-villa-igp-gamine-2018 2020-01-04 16:36:01   \n",
      "..                                                 ...                 ...   \n",
      "762                    mouthes-le-bihan-aime-chai-2015 2020-08-26 17:35:03   \n",
      "767         camin-larredya-jurancon-sec-la-virada-2018 2020-08-26 17:35:02   \n",
      "768             jamet-cote-rotie-fructus-voluptas-2018 2020-08-14 18:15:03   \n",
      "797     clos-du-mont-olivet-chateauneuf-du-pape-2007-2 2020-07-20 17:09:06   \n",
      "798  domaine-saint-nicolas-fiefs-vendeens-blanc-les... 2020-08-13 10:45:03   \n",
      "\n",
      "      post_modified_gmt post_parent  \\\n",
      "0   2018-06-01 12:13:57         0.0   \n",
      "1   2019-12-30 08:30:29         0.0   \n",
      "2   2019-12-21 08:00:17         0.0   \n",
      "3   2020-06-26 16:15:03         0.0   \n",
      "4   2020-01-04 15:36:01         0.0   \n",
      "..                  ...         ...   \n",
      "762 2020-08-26 15:35:03         0.0   \n",
      "767 2020-08-26 15:35:02         0.0   \n",
      "768 2020-08-14 16:15:03         0.0   \n",
      "797 2020-07-20 15:09:06         0.0   \n",
      "798 2020-08-13 08:45:03         0.0   \n",
      "\n",
      "                                                  guid menu_order  post_type  \\\n",
      "0    https://www.wine-spirit.fr/?post_type=product&...        0.0    product   \n",
      "1    https://www.wine-spirit.fr/?post_type=product&...        0.0    product   \n",
      "2    https://www.wine-spirit.fr/?post_type=product&...        0.0    product   \n",
      "3    https://www.wine-spirit.fr/?post_type=product&...        0.0    product   \n",
      "4    https://www.wine-spirit.fr/?post_type=product&...        0.0    product   \n",
      "..                                                 ...        ...        ...   \n",
      "762  https://www.wine-spirit.fr/?post_type=product&...        0.0    product   \n",
      "767  https://www.wine-spirit.fr/?post_type=product&...        0.0    product   \n",
      "768  https://www.wine-spirit.fr/?post_type=product&...        0.0    product   \n",
      "797  https://www.wine-spirit.fr/?post_type=product&...        0.0    product   \n",
      "798  https://www.wine-spirit.fr/?post_type=product&...        0.0    product   \n",
      "\n",
      "    comment_count  \n",
      "0             0.0  \n",
      "1             0.0  \n",
      "2             0.0  \n",
      "3             0.0  \n",
      "4             0.0  \n",
      "..            ...  \n",
      "762           0.0  \n",
      "767           0.0  \n",
      "768           0.0  \n",
      "797           0.0  \n",
      "798           0.0  \n",
      "\n",
      "[714 rows x 23 columns]\n",
      "sku                  0\n",
      "virtual              0\n",
      "downloadable         0\n",
      "rating_count         0\n",
      "average_rating       0\n",
      "total_sales          0\n",
      "tax_status           0\n",
      "post_author          0\n",
      "post_date            0\n",
      "post_date_gmt        0\n",
      "post_title           0\n",
      "post_excerpt         0\n",
      "post_status          0\n",
      "comment_status       0\n",
      "ping_status          0\n",
      "post_name            0\n",
      "post_modified        0\n",
      "post_modified_gmt    0\n",
      "post_parent          0\n",
      "guid                 0\n",
      "menu_order           0\n",
      "post_type            0\n",
      "comment_count        0\n",
      "dtype: int64\n",
      "Empty DataFrame\n",
      "Columns: [sku, c]\n",
      "Index: []\n"
     ]
    },
    {
     "name": "stderr",
     "output_type": "stream",
     "text": [
      "C:\\Users\\Simplon 1\\Anaconda3\\lib\\site-packages\\openpyxl\\worksheet\\_reader.py:312: UserWarning: Unknown extension is not supported and will be removed\n",
      "  warn(msg)\n"
     ]
    }
   ],
   "source": [
    "data = pd.read_excel(r\"web.xlsx\")\n",
    "\n",
    "cursor.execute(\"DROP TABLE IF EXISTS web\")\n",
    "data = data.drop(columns=['tax_class','post_content_filtered','post_mime_type','post_password','post_content'])\n",
    "print(len(data))\n",
    "data = data.dropna()\n",
    "print(len(data))\n",
    "data.to_sql('web',conn)\n",
    "print(data)\n",
    "print(data.isnull().sum(axis = 0)) #vérifie si des colonnes pleines de valeursn ulle existent\n",
    "print(pd.read_sql_query(\"SELECT sku, COUNT(*) c FROM web GROUP BY sku HAVING c > 1\",conn))"
   ]
  },
  {
   "cell_type": "code",
   "execution_count": 21,
   "id": "9f10559d",
   "metadata": {},
   "outputs": [
    {
     "name": "stdout",
     "output_type": "stream",
     "text": [
      "Empty DataFrame\n",
      "Columns: [id_web, c]\n",
      "Index: []\n"
     ]
    },
    {
     "name": "stderr",
     "output_type": "stream",
     "text": [
      "C:\\Users\\Simplon 1\\Anaconda3\\lib\\site-packages\\openpyxl\\worksheet\\_reader.py:312: UserWarning: Unknown extension is not supported and will be removed\n",
      "  warn(msg)\n"
     ]
    }
   ],
   "source": [
    "data = pd.read_excel(r\"liaison.xlsx\")\n",
    "data = data.dropna()\n",
    "cursor.execute(\"DROP TABLE IF EXISTS liaison\")\n",
    "data.to_sql('liaison',conn)\n",
    "print(pd.read_sql_query(\"SELECT id_web, COUNT(*) c FROM liaison GROUP BY product_id HAVING c > 1\",conn))"
   ]
  },
  {
   "cell_type": "code",
   "execution_count": 17,
   "id": "34d9fb95",
   "metadata": {},
   "outputs": [
    {
     "data": {
      "text/html": [
       "<div>\n",
       "<style scoped>\n",
       "    .dataframe tbody tr th:only-of-type {\n",
       "        vertical-align: middle;\n",
       "    }\n",
       "\n",
       "    .dataframe tbody tr th {\n",
       "        vertical-align: top;\n",
       "    }\n",
       "\n",
       "    .dataframe thead th {\n",
       "        text-align: right;\n",
       "    }\n",
       "</style>\n",
       "<table border=\"1\" class=\"dataframe\">\n",
       "  <thead>\n",
       "    <tr style=\"text-align: right;\">\n",
       "      <th></th>\n",
       "      <th>type</th>\n",
       "      <th>name</th>\n",
       "      <th>tbl_name</th>\n",
       "      <th>rootpage</th>\n",
       "      <th>sql</th>\n",
       "    </tr>\n",
       "  </thead>\n",
       "  <tbody>\n",
       "    <tr>\n",
       "      <th>0</th>\n",
       "      <td>table</td>\n",
       "      <td>erpWeb</td>\n",
       "      <td>erpWeb</td>\n",
       "      <td>87</td>\n",
       "      <td>CREATE TABLE erpWeb(\\n  \"index\" INT,\\n  sku TE...</td>\n",
       "    </tr>\n",
       "    <tr>\n",
       "      <th>1</th>\n",
       "      <td>table</td>\n",
       "      <td>erp</td>\n",
       "      <td>erp</td>\n",
       "      <td>2</td>\n",
       "      <td>CREATE TABLE \"erp\" (\\n\"index\" INTEGER,\\n  \"pro...</td>\n",
       "    </tr>\n",
       "    <tr>\n",
       "      <th>2</th>\n",
       "      <td>index</td>\n",
       "      <td>ix_erp_index</td>\n",
       "      <td>erp</td>\n",
       "      <td>3</td>\n",
       "      <td>CREATE INDEX \"ix_erp_index\"ON \"erp\" (\"index\")</td>\n",
       "    </tr>\n",
       "    <tr>\n",
       "      <th>3</th>\n",
       "      <td>table</td>\n",
       "      <td>web</td>\n",
       "      <td>web</td>\n",
       "      <td>13</td>\n",
       "      <td>CREATE TABLE \"web\" (\\n\"index\" INTEGER,\\n  \"sku...</td>\n",
       "    </tr>\n",
       "    <tr>\n",
       "      <th>4</th>\n",
       "      <td>index</td>\n",
       "      <td>ix_web_index</td>\n",
       "      <td>web</td>\n",
       "      <td>14</td>\n",
       "      <td>CREATE INDEX \"ix_web_index\"ON \"web\" (\"index\")</td>\n",
       "    </tr>\n",
       "    <tr>\n",
       "      <th>5</th>\n",
       "      <td>table</td>\n",
       "      <td>liaison</td>\n",
       "      <td>liaison</td>\n",
       "      <td>9</td>\n",
       "      <td>CREATE TABLE \"liaison\" (\\n\"index\" INTEGER,\\n  ...</td>\n",
       "    </tr>\n",
       "    <tr>\n",
       "      <th>6</th>\n",
       "      <td>index</td>\n",
       "      <td>ix_liaison_index</td>\n",
       "      <td>liaison</td>\n",
       "      <td>15</td>\n",
       "      <td>CREATE INDEX \"ix_liaison_index\"ON \"liaison\" (\"...</td>\n",
       "    </tr>\n",
       "  </tbody>\n",
       "</table>\n",
       "</div>"
      ],
      "text/plain": [
       "    type              name tbl_name  rootpage  \\\n",
       "0  table            erpWeb   erpWeb        87   \n",
       "1  table               erp      erp         2   \n",
       "2  index      ix_erp_index      erp         3   \n",
       "3  table               web      web        13   \n",
       "4  index      ix_web_index      web        14   \n",
       "5  table           liaison  liaison         9   \n",
       "6  index  ix_liaison_index  liaison        15   \n",
       "\n",
       "                                                 sql  \n",
       "0  CREATE TABLE erpWeb(\\n  \"index\" INT,\\n  sku TE...  \n",
       "1  CREATE TABLE \"erp\" (\\n\"index\" INTEGER,\\n  \"pro...  \n",
       "2      CREATE INDEX \"ix_erp_index\"ON \"erp\" (\"index\")  \n",
       "3  CREATE TABLE \"web\" (\\n\"index\" INTEGER,\\n  \"sku...  \n",
       "4      CREATE INDEX \"ix_web_index\"ON \"web\" (\"index\")  \n",
       "5  CREATE TABLE \"liaison\" (\\n\"index\" INTEGER,\\n  ...  \n",
       "6  CREATE INDEX \"ix_liaison_index\"ON \"liaison\" (\"...  "
      ]
     },
     "execution_count": 17,
     "metadata": {},
     "output_type": "execute_result"
    }
   ],
   "source": [
    "pd.read_sql_query(\"SELECT * FROM sqlite_master \",conn)"
   ]
  },
  {
   "cell_type": "code",
   "execution_count": 20,
   "id": "01e27ad6",
   "metadata": {},
   "outputs": [],
   "source": [
    "conn.commit()"
   ]
  },
  {
   "cell_type": "code",
   "execution_count": null,
   "id": "84281c01",
   "metadata": {},
   "outputs": [],
   "source": []
  }
 ],
 "metadata": {
  "kernelspec": {
   "display_name": "Python 3",
   "language": "python",
   "name": "python3"
  },
  "language_info": {
   "codemirror_mode": {
    "name": "ipython",
    "version": 3
   },
   "file_extension": ".py",
   "mimetype": "text/x-python",
   "name": "python",
   "nbconvert_exporter": "python",
   "pygments_lexer": "ipython3",
   "version": "3.8.8"
  }
 },
 "nbformat": 4,
 "nbformat_minor": 5
}
