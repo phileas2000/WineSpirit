{
 "cells": [
  {
   "cell_type": "code",
   "execution_count": 2,
   "id": "6385bad8",
   "metadata": {},
   "outputs": [],
   "source": [
    "import pandas as pd\n",
    "import sqlite3 as sq"
   ]
  },
  {
   "cell_type": "code",
   "execution_count": 3,
   "id": "63866dc5",
   "metadata": {},
   "outputs": [
    {
     "name": "stderr",
     "output_type": "stream",
     "text": [
      "C:\\Users\\Simplon 1\\Anaconda3\\lib\\site-packages\\openpyxl\\worksheet\\_reader.py:312: UserWarning: Unknown extension is not supported and will be removed\n",
      "  warn(msg)\n"
     ]
    }
   ],
   "source": [
    "data = pd.read_excel(r\"erp.xlsx\")\n",
    "\n"
   ]
  },
  {
   "cell_type": "code",
   "execution_count": 5,
   "id": "41e8882f",
   "metadata": {},
   "outputs": [
    {
     "name": "stdout",
     "output_type": "stream",
     "text": [
      "    product_id  onsale_web  price  stock_quantity stock_status\n",
      "0         3847           1   24.2               0   outofstock\n",
      "1         3849           1   34.3               0   outofstock\n",
      "2         3850           1   20.8               0   outofstock\n",
      "3         4032           1   14.1               0   outofstock\n",
      "4         4039           1   46.0               0   outofstock\n",
      "..         ...         ...    ...             ...          ...\n",
      "95        4166           1   20.5               8      instock\n",
      "96        4167           1   14.3              36      instock\n",
      "97        4168           1   18.2              50      instock\n",
      "98        4170           1    9.0              58      instock\n",
      "99        4171           1    7.8              65      instock\n",
      "\n",
      "[100 rows x 5 columns]\n",
      "{'outofstock', 'instock'}\n"
     ]
    }
   ],
   "source": [
    "\n",
    "data = data.dropna()\n",
    "print(data.head(100))\n",
    "data.describe()\n",
    "#pas de données manquante\n",
    "output = set()\n",
    "\n",
    "for x in data['stock_status']:\n",
    "    output.add(x)\n",
    "print(output)\n",
    "#seules 2 valeurs différentes"
   ]
  },
  {
   "cell_type": "code",
   "execution_count": 8,
   "id": "46a63a2b",
   "metadata": {},
   "outputs": [
    {
     "name": "stderr",
     "output_type": "stream",
     "text": [
      "C:\\Users\\Simplon 1\\Anaconda3\\lib\\site-packages\\openpyxl\\worksheet\\_reader.py:312: UserWarning: Unknown extension is not supported and will be removed\n",
      "  warn(msg)\n"
     ]
    }
   ],
   "source": [
    "data = pd.read_excel(r\"web.xlsx\")"
   ]
  },
  {
   "cell_type": "code",
   "execution_count": 14,
   "id": "241e35dd",
   "metadata": {},
   "outputs": [
    {
     "name": "stdout",
     "output_type": "stream",
     "text": [
      "                    sku  virtual  downloadable  rating_count  average_rating  \\\n",
      "0   bon-cadeau-25-euros        0             0             0             0.0   \n",
      "1                 15298        0             0             0             0.0   \n",
      "2                 15296        0             0             0             0.0   \n",
      "3                 15300        0             0             0             0.0   \n",
      "4                 19814        0             0             0             0.0   \n",
      "..                  ...      ...           ...           ...             ...   \n",
      "95                15784        0             0             0             0.0   \n",
      "96                15786        0             0             0             0.0   \n",
      "97                14332        0             0             0             0.0   \n",
      "98                16210        0             0             0             0.0   \n",
      "99                16211        0             0             0             0.0   \n",
      "\n",
      "    total_sales tax_status  post_author           post_date  \\\n",
      "0          10.0    taxable          1.0 2018-06-01 13:53:46   \n",
      "1           6.0    taxable          2.0 2018-02-08 12:58:52   \n",
      "2           0.0    taxable          2.0 2018-02-08 13:49:41   \n",
      "3           0.0    taxable          2.0 2018-02-08 14:08:36   \n",
      "4           3.0    taxable          2.0 2018-02-09 14:01:05   \n",
      "..          ...        ...          ...                 ...   \n",
      "95         12.0    taxable          2.0 2018-02-14 16:09:44   \n",
      "96          4.0    taxable          2.0 2018-02-14 16:39:22   \n",
      "97          1.0    taxable          2.0 2018-02-14 16:45:18   \n",
      "98         43.0    taxable          2.0 2018-02-14 16:54:33   \n",
      "99         13.0    taxable          2.0 2018-02-14 17:10:39   \n",
      "\n",
      "         post_date_gmt  ...  ping_status post_password  \\\n",
      "0  2018-06-01 11:53:46  ...       closed           NaN   \n",
      "1  2018-02-08 11:58:52  ...       closed           NaN   \n",
      "2  2018-02-08 12:49:41  ...       closed           NaN   \n",
      "3  2018-02-08 13:08:36  ...       closed           NaN   \n",
      "4  2018-02-09 13:01:05  ...       closed           NaN   \n",
      "..                 ...  ...          ...           ...   \n",
      "95 2018-02-14 15:09:44  ...       closed           NaN   \n",
      "96 2018-02-14 15:39:22  ...       closed           NaN   \n",
      "97 2018-02-14 15:45:18  ...       closed           NaN   \n",
      "98 2018-02-14 15:54:33  ...       closed           NaN   \n",
      "99 2018-02-14 16:10:39  ...       closed           NaN   \n",
      "\n",
      "                                            post_name       post_modified  \\\n",
      "0                              bon-cadeau-de-25-euros 2018-06-01 14:13:57   \n",
      "1         pierre-jean-villa-saint-joseph-preface-2018 2019-12-30 09:30:29   \n",
      "2           pierre-jean-villa-saint-joseph-tilde-2017 2019-12-21 09:00:17   \n",
      "3   pierre-jean-villa-croze-hermitage-accroche-coe... 2020-06-26 18:15:03   \n",
      "4                   pierre-jean-villa-igp-gamine-2018 2020-01-04 16:36:01   \n",
      "..                                                ...                 ...   \n",
      "95  ollieux-romanis-corbieres-cuvee-prestige-blanc... 2020-08-21 10:55:01   \n",
      "96           ollieux-romanis-corbieres-classique-2018 2020-08-11 17:55:02   \n",
      "97                ollieux-romanis-monsieur-pinot-2017 2020-08-27 16:05:02   \n",
      "98                     maurel-pays-oc-chardonnay-2019 2020-08-27 15:35:02   \n",
      "99              maurel-pays-doc-chenin-colombard-2019 2020-08-07 17:35:03   \n",
      "\n",
      "     post_modified_gmt post_parent  \\\n",
      "0  2018-06-01 12:13:57         0.0   \n",
      "1  2019-12-30 08:30:29         0.0   \n",
      "2  2019-12-21 08:00:17         0.0   \n",
      "3  2020-06-26 16:15:03         0.0   \n",
      "4  2020-01-04 15:36:01         0.0   \n",
      "..                 ...         ...   \n",
      "95 2020-08-21 08:55:01         0.0   \n",
      "96 2020-08-11 15:55:02         0.0   \n",
      "97 2020-08-27 14:05:02         0.0   \n",
      "98 2020-08-27 13:35:02         0.0   \n",
      "99 2020-08-07 15:35:03         0.0   \n",
      "\n",
      "                                                 guid menu_order post_type  \\\n",
      "0   https://www.wine-spirit.fr/?post_type=product&...        0.0   product   \n",
      "1   https://www.wine-spirit.fr/?post_type=product&...        0.0   product   \n",
      "2   https://www.wine-spirit.fr/?post_type=product&...        0.0   product   \n",
      "3   https://www.wine-spirit.fr/?post_type=product&...        0.0   product   \n",
      "4   https://www.wine-spirit.fr/?post_type=product&...        0.0   product   \n",
      "..                                                ...        ...       ...   \n",
      "95  https://www.wine-spirit.fr/?post_type=product&...        0.0   product   \n",
      "96  https://www.wine-spirit.fr/?post_type=product&...        0.0   product   \n",
      "97  https://www.wine-spirit.fr/?post_type=product&...        0.0   product   \n",
      "98  https://www.wine-spirit.fr/?post_type=product&...        0.0   product   \n",
      "99  https://www.wine-spirit.fr/?post_type=product&...        0.0   product   \n",
      "\n",
      "   comment_count  \n",
      "0            0.0  \n",
      "1            0.0  \n",
      "2            0.0  \n",
      "3            0.0  \n",
      "4            0.0  \n",
      "..           ...  \n",
      "95           0.0  \n",
      "96           0.0  \n",
      "97           0.0  \n",
      "98           0.0  \n",
      "99           0.0  \n",
      "\n",
      "[100 rows x 25 columns]\n"
     ]
    },
    {
     "ename": "KeyError",
     "evalue": "\"['tax_class' 'post_content_filtered' 'post_mime_type'] not found in axis\"",
     "output_type": "error",
     "traceback": [
      "\u001b[1;31m---------------------------------------------------------------------------\u001b[0m",
      "\u001b[1;31mKeyError\u001b[0m                                  Traceback (most recent call last)",
      "\u001b[1;32m<ipython-input-14-d081303889c3>\u001b[0m in \u001b[0;36m<module>\u001b[1;34m\u001b[0m\n\u001b[0;32m      3\u001b[0m \u001b[1;31m#plusieurs colonnes vides à enlever\u001b[0m\u001b[1;33m\u001b[0m\u001b[1;33m\u001b[0m\u001b[1;33m\u001b[0m\u001b[0m\n\u001b[0;32m      4\u001b[0m \u001b[1;31m#vérifie si dropna risque de perdre des données utiles\u001b[0m\u001b[1;33m\u001b[0m\u001b[1;33m\u001b[0m\u001b[1;33m\u001b[0m\u001b[0m\n\u001b[1;32m----> 5\u001b[1;33m \u001b[0mdata\u001b[0m \u001b[1;33m=\u001b[0m \u001b[0mdata\u001b[0m\u001b[1;33m.\u001b[0m\u001b[0mdrop\u001b[0m\u001b[1;33m(\u001b[0m\u001b[0mcolumns\u001b[0m\u001b[1;33m=\u001b[0m\u001b[1;33m[\u001b[0m\u001b[1;34m'tax_class'\u001b[0m\u001b[1;33m,\u001b[0m\u001b[1;34m'post_content_filtered'\u001b[0m\u001b[1;33m,\u001b[0m\u001b[1;34m'post_mime_type'\u001b[0m\u001b[1;33m]\u001b[0m\u001b[1;33m)\u001b[0m\u001b[1;33m\u001b[0m\u001b[1;33m\u001b[0m\u001b[0m\n\u001b[0m\u001b[0;32m      6\u001b[0m \u001b[0mprint\u001b[0m\u001b[1;33m(\u001b[0m\u001b[1;34m\"_________________________________________________________________\"\u001b[0m\u001b[1;33m)\u001b[0m\u001b[1;33m\u001b[0m\u001b[1;33m\u001b[0m\u001b[0m\n\u001b[0;32m      7\u001b[0m \u001b[0mprint\u001b[0m\u001b[1;33m(\u001b[0m\u001b[0mdata\u001b[0m\u001b[1;33m)\u001b[0m\u001b[1;33m\u001b[0m\u001b[1;33m\u001b[0m\u001b[0m\n",
      "\u001b[1;32m~\\Anaconda3\\lib\\site-packages\\pandas\\core\\frame.py\u001b[0m in \u001b[0;36mdrop\u001b[1;34m(self, labels, axis, index, columns, level, inplace, errors)\u001b[0m\n\u001b[0;32m   4306\u001b[0m                 \u001b[0mweight\u001b[0m  \u001b[1;36m1.0\u001b[0m     \u001b[1;36m0.8\u001b[0m\u001b[1;33m\u001b[0m\u001b[1;33m\u001b[0m\u001b[0m\n\u001b[0;32m   4307\u001b[0m         \"\"\"\n\u001b[1;32m-> 4308\u001b[1;33m         return super().drop(\n\u001b[0m\u001b[0;32m   4309\u001b[0m             \u001b[0mlabels\u001b[0m\u001b[1;33m=\u001b[0m\u001b[0mlabels\u001b[0m\u001b[1;33m,\u001b[0m\u001b[1;33m\u001b[0m\u001b[1;33m\u001b[0m\u001b[0m\n\u001b[0;32m   4310\u001b[0m             \u001b[0maxis\u001b[0m\u001b[1;33m=\u001b[0m\u001b[0maxis\u001b[0m\u001b[1;33m,\u001b[0m\u001b[1;33m\u001b[0m\u001b[1;33m\u001b[0m\u001b[0m\n",
      "\u001b[1;32m~\\Anaconda3\\lib\\site-packages\\pandas\\core\\generic.py\u001b[0m in \u001b[0;36mdrop\u001b[1;34m(self, labels, axis, index, columns, level, inplace, errors)\u001b[0m\n\u001b[0;32m   4151\u001b[0m         \u001b[1;32mfor\u001b[0m \u001b[0maxis\u001b[0m\u001b[1;33m,\u001b[0m \u001b[0mlabels\u001b[0m \u001b[1;32min\u001b[0m \u001b[0maxes\u001b[0m\u001b[1;33m.\u001b[0m\u001b[0mitems\u001b[0m\u001b[1;33m(\u001b[0m\u001b[1;33m)\u001b[0m\u001b[1;33m:\u001b[0m\u001b[1;33m\u001b[0m\u001b[1;33m\u001b[0m\u001b[0m\n\u001b[0;32m   4152\u001b[0m             \u001b[1;32mif\u001b[0m \u001b[0mlabels\u001b[0m \u001b[1;32mis\u001b[0m \u001b[1;32mnot\u001b[0m \u001b[1;32mNone\u001b[0m\u001b[1;33m:\u001b[0m\u001b[1;33m\u001b[0m\u001b[1;33m\u001b[0m\u001b[0m\n\u001b[1;32m-> 4153\u001b[1;33m                 \u001b[0mobj\u001b[0m \u001b[1;33m=\u001b[0m \u001b[0mobj\u001b[0m\u001b[1;33m.\u001b[0m\u001b[0m_drop_axis\u001b[0m\u001b[1;33m(\u001b[0m\u001b[0mlabels\u001b[0m\u001b[1;33m,\u001b[0m \u001b[0maxis\u001b[0m\u001b[1;33m,\u001b[0m \u001b[0mlevel\u001b[0m\u001b[1;33m=\u001b[0m\u001b[0mlevel\u001b[0m\u001b[1;33m,\u001b[0m \u001b[0merrors\u001b[0m\u001b[1;33m=\u001b[0m\u001b[0merrors\u001b[0m\u001b[1;33m)\u001b[0m\u001b[1;33m\u001b[0m\u001b[1;33m\u001b[0m\u001b[0m\n\u001b[0m\u001b[0;32m   4154\u001b[0m \u001b[1;33m\u001b[0m\u001b[0m\n\u001b[0;32m   4155\u001b[0m         \u001b[1;32mif\u001b[0m \u001b[0minplace\u001b[0m\u001b[1;33m:\u001b[0m\u001b[1;33m\u001b[0m\u001b[1;33m\u001b[0m\u001b[0m\n",
      "\u001b[1;32m~\\Anaconda3\\lib\\site-packages\\pandas\\core\\generic.py\u001b[0m in \u001b[0;36m_drop_axis\u001b[1;34m(self, labels, axis, level, errors)\u001b[0m\n\u001b[0;32m   4186\u001b[0m                 \u001b[0mnew_axis\u001b[0m \u001b[1;33m=\u001b[0m \u001b[0maxis\u001b[0m\u001b[1;33m.\u001b[0m\u001b[0mdrop\u001b[0m\u001b[1;33m(\u001b[0m\u001b[0mlabels\u001b[0m\u001b[1;33m,\u001b[0m \u001b[0mlevel\u001b[0m\u001b[1;33m=\u001b[0m\u001b[0mlevel\u001b[0m\u001b[1;33m,\u001b[0m \u001b[0merrors\u001b[0m\u001b[1;33m=\u001b[0m\u001b[0merrors\u001b[0m\u001b[1;33m)\u001b[0m\u001b[1;33m\u001b[0m\u001b[1;33m\u001b[0m\u001b[0m\n\u001b[0;32m   4187\u001b[0m             \u001b[1;32melse\u001b[0m\u001b[1;33m:\u001b[0m\u001b[1;33m\u001b[0m\u001b[1;33m\u001b[0m\u001b[0m\n\u001b[1;32m-> 4188\u001b[1;33m                 \u001b[0mnew_axis\u001b[0m \u001b[1;33m=\u001b[0m \u001b[0maxis\u001b[0m\u001b[1;33m.\u001b[0m\u001b[0mdrop\u001b[0m\u001b[1;33m(\u001b[0m\u001b[0mlabels\u001b[0m\u001b[1;33m,\u001b[0m \u001b[0merrors\u001b[0m\u001b[1;33m=\u001b[0m\u001b[0merrors\u001b[0m\u001b[1;33m)\u001b[0m\u001b[1;33m\u001b[0m\u001b[1;33m\u001b[0m\u001b[0m\n\u001b[0m\u001b[0;32m   4189\u001b[0m             \u001b[0mresult\u001b[0m \u001b[1;33m=\u001b[0m \u001b[0mself\u001b[0m\u001b[1;33m.\u001b[0m\u001b[0mreindex\u001b[0m\u001b[1;33m(\u001b[0m\u001b[1;33m**\u001b[0m\u001b[1;33m{\u001b[0m\u001b[0maxis_name\u001b[0m\u001b[1;33m:\u001b[0m \u001b[0mnew_axis\u001b[0m\u001b[1;33m}\u001b[0m\u001b[1;33m)\u001b[0m\u001b[1;33m\u001b[0m\u001b[1;33m\u001b[0m\u001b[0m\n\u001b[0;32m   4190\u001b[0m \u001b[1;33m\u001b[0m\u001b[0m\n",
      "\u001b[1;32m~\\Anaconda3\\lib\\site-packages\\pandas\\core\\indexes\\base.py\u001b[0m in \u001b[0;36mdrop\u001b[1;34m(self, labels, errors)\u001b[0m\n\u001b[0;32m   5589\u001b[0m         \u001b[1;32mif\u001b[0m \u001b[0mmask\u001b[0m\u001b[1;33m.\u001b[0m\u001b[0many\u001b[0m\u001b[1;33m(\u001b[0m\u001b[1;33m)\u001b[0m\u001b[1;33m:\u001b[0m\u001b[1;33m\u001b[0m\u001b[1;33m\u001b[0m\u001b[0m\n\u001b[0;32m   5590\u001b[0m             \u001b[1;32mif\u001b[0m \u001b[0merrors\u001b[0m \u001b[1;33m!=\u001b[0m \u001b[1;34m\"ignore\"\u001b[0m\u001b[1;33m:\u001b[0m\u001b[1;33m\u001b[0m\u001b[1;33m\u001b[0m\u001b[0m\n\u001b[1;32m-> 5591\u001b[1;33m                 \u001b[1;32mraise\u001b[0m \u001b[0mKeyError\u001b[0m\u001b[1;33m(\u001b[0m\u001b[1;34mf\"{labels[mask]} not found in axis\"\u001b[0m\u001b[1;33m)\u001b[0m\u001b[1;33m\u001b[0m\u001b[1;33m\u001b[0m\u001b[0m\n\u001b[0m\u001b[0;32m   5592\u001b[0m             \u001b[0mindexer\u001b[0m \u001b[1;33m=\u001b[0m \u001b[0mindexer\u001b[0m\u001b[1;33m[\u001b[0m\u001b[1;33m~\u001b[0m\u001b[0mmask\u001b[0m\u001b[1;33m]\u001b[0m\u001b[1;33m\u001b[0m\u001b[1;33m\u001b[0m\u001b[0m\n\u001b[0;32m   5593\u001b[0m         \u001b[1;32mreturn\u001b[0m \u001b[0mself\u001b[0m\u001b[1;33m.\u001b[0m\u001b[0mdelete\u001b[0m\u001b[1;33m(\u001b[0m\u001b[0mindexer\u001b[0m\u001b[1;33m)\u001b[0m\u001b[1;33m\u001b[0m\u001b[1;33m\u001b[0m\u001b[0m\n",
      "\u001b[1;31mKeyError\u001b[0m: \"['tax_class' 'post_content_filtered' 'post_mime_type'] not found in axis\""
     ]
    }
   ],
   "source": [
    "\n",
    "print(data.head(100))\n",
    "data.describe()\n",
    "#plusieurs colonnes vides à enlever\n",
    "#vérifie si dropna risque de perdre des données utiles\n",
    "data = data.drop(columns=['tax_class','post_content_filtered','post_mime_type'])\n",
    "print(\"_________________________________________________________________\")\n",
    "print(data)\n",
    "null_data = data[data.isnull().any(axis=1)]\n",
    "data[null_data == True] \n",
    "#la majorité des lgines avec valeurs manquantes semlent inutiles\n"
   ]
  },
  {
   "cell_type": "code",
   "execution_count": 56,
   "id": "52546714",
   "metadata": {},
   "outputs": [
    {
     "name": "stderr",
     "output_type": "stream",
     "text": [
      "C:\\Users\\Simplon 1\\Anaconda3\\lib\\site-packages\\openpyxl\\worksheet\\_reader.py:312: UserWarning: Unknown extension is not supported and will be removed\n",
      "  warn(msg)\n"
     ]
    }
   ],
   "source": [
    "data = pd.read_excel(r\"liaison.xlsx\")"
   ]
  },
  {
   "cell_type": "code",
   "execution_count": 58,
   "id": "0ec20ab1",
   "metadata": {},
   "outputs": [
    {
     "name": "stdout",
     "output_type": "stream",
     "text": [
      "   product_id id_web\n",
      "0        3847  15298\n",
      "1        3849  15296\n",
      "2        3850  15300\n",
      "3        4032  19814\n",
      "4        4039  19815\n",
      "5        4040  15303\n",
      "6        4041  14975\n",
      "7        4042  16042\n",
      "8        4043  14980\n",
      "9        4045  16041\n"
     ]
    },
    {
     "data": {
      "text/html": [
       "<div>\n",
       "<style scoped>\n",
       "    .dataframe tbody tr th:only-of-type {\n",
       "        vertical-align: middle;\n",
       "    }\n",
       "\n",
       "    .dataframe tbody tr th {\n",
       "        vertical-align: top;\n",
       "    }\n",
       "\n",
       "    .dataframe thead th {\n",
       "        text-align: right;\n",
       "    }\n",
       "</style>\n",
       "<table border=\"1\" class=\"dataframe\">\n",
       "  <thead>\n",
       "    <tr style=\"text-align: right;\">\n",
       "      <th></th>\n",
       "      <th>product_id</th>\n",
       "      <th>id_web</th>\n",
       "    </tr>\n",
       "  </thead>\n",
       "  <tbody>\n",
       "    <tr>\n",
       "      <th>count</th>\n",
       "      <td>734.000000</td>\n",
       "      <td>734.0</td>\n",
       "    </tr>\n",
       "    <tr>\n",
       "      <th>unique</th>\n",
       "      <td>NaN</td>\n",
       "      <td>734.0</td>\n",
       "    </tr>\n",
       "    <tr>\n",
       "      <th>top</th>\n",
       "      <td>NaN</td>\n",
       "      <td>15360.0</td>\n",
       "    </tr>\n",
       "    <tr>\n",
       "      <th>freq</th>\n",
       "      <td>NaN</td>\n",
       "      <td>1.0</td>\n",
       "    </tr>\n",
       "    <tr>\n",
       "      <th>mean</th>\n",
       "      <td>5041.859673</td>\n",
       "      <td>NaN</td>\n",
       "    </tr>\n",
       "    <tr>\n",
       "      <th>std</th>\n",
       "      <td>790.309295</td>\n",
       "      <td>NaN</td>\n",
       "    </tr>\n",
       "    <tr>\n",
       "      <th>min</th>\n",
       "      <td>3847.000000</td>\n",
       "      <td>NaN</td>\n",
       "    </tr>\n",
       "    <tr>\n",
       "      <th>25%</th>\n",
       "      <td>4287.250000</td>\n",
       "      <td>NaN</td>\n",
       "    </tr>\n",
       "    <tr>\n",
       "      <th>50%</th>\n",
       "      <td>4862.500000</td>\n",
       "      <td>NaN</td>\n",
       "    </tr>\n",
       "    <tr>\n",
       "      <th>75%</th>\n",
       "      <td>5714.250000</td>\n",
       "      <td>NaN</td>\n",
       "    </tr>\n",
       "    <tr>\n",
       "      <th>max</th>\n",
       "      <td>7338.000000</td>\n",
       "      <td>NaN</td>\n",
       "    </tr>\n",
       "  </tbody>\n",
       "</table>\n",
       "</div>"
      ],
      "text/plain": [
       "         product_id   id_web\n",
       "count    734.000000    734.0\n",
       "unique          NaN    734.0\n",
       "top             NaN  15360.0\n",
       "freq            NaN      1.0\n",
       "mean    5041.859673      NaN\n",
       "std      790.309295      NaN\n",
       "min     3847.000000      NaN\n",
       "25%     4287.250000      NaN\n",
       "50%     4862.500000      NaN\n",
       "75%     5714.250000      NaN\n",
       "max     7338.000000      NaN"
      ]
     },
     "execution_count": 58,
     "metadata": {},
     "output_type": "execute_result"
    }
   ],
   "source": [
    "data = data.dropna()\n",
    "print(data.head(10))\n",
    "data.describe(include = \"all\")\n",
    "\n",
    "\n",
    "#pas de donnée manquante"
   ]
  },
  {
   "cell_type": "code",
   "execution_count": null,
   "id": "7b7d3203",
   "metadata": {},
   "outputs": [],
   "source": []
  }
 ],
 "metadata": {
  "kernelspec": {
   "display_name": "Python 3",
   "language": "python",
   "name": "python3"
  },
  "language_info": {
   "codemirror_mode": {
    "name": "ipython",
    "version": 3
   },
   "file_extension": ".py",
   "mimetype": "text/x-python",
   "name": "python",
   "nbconvert_exporter": "python",
   "pygments_lexer": "ipython3",
   "version": "3.8.8"
  }
 },
 "nbformat": 4,
 "nbformat_minor": 5
}
