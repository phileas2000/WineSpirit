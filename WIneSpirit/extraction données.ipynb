{
 "cells": [
  {
   "cell_type": "code",
   "execution_count": 2,
   "id": "f0efecad",
   "metadata": {},
   "outputs": [],
   "source": [
    "import pandas as pd\n",
    "import sqlite3 as sql\n",
    "import matplotlib.pyplot as plt"
   ]
  },
  {
   "cell_type": "code",
   "execution_count": 3,
   "id": "d77ca75f",
   "metadata": {},
   "outputs": [],
   "source": [
    "conn = sql.connect(\"databaseWine.db\")\n",
    "cursor = conn.cursor()"
   ]
  },
  {
   "cell_type": "code",
   "execution_count": 4,
   "id": "de6592a8",
   "metadata": {},
   "outputs": [
    {
     "name": "stdout",
     "output_type": "stream",
     "text": [
      "     price  total_sales                                         post_title\n",
      "0     25.0         10.0                                  Bon cadeau de 25€\n",
      "1     24.2          6.0        Pierre Jean Villa Saint-Joseph Préface 2018\n",
      "2     34.3          0.0    Pierre Jean Villa Saint-Joseph Rouge Tildé 2017\n",
      "3     20.8          0.0  Pierre Jean Villa Crozes-Hermitage Accroche Co...\n",
      "4     14.1          3.0  Pierre Jean Villa IGP Collines Rhodaniennes Ga...\n",
      "..     ...          ...                                                ...\n",
      "709    8.4          5.0   Mouthes Le Bihan Côtes de Duras L'Aimé Chai 2015\n",
      "710   27.5          0.0         Camin Larredya Jurançon Sec La Virada 2018\n",
      "711   69.0          0.0     Domaine Jamet Côte Rôtie Fructus Voluptas 2018\n",
      "712   54.8          0.0       Clos du Mont-Olivet Châteauneuf-du-Pape 2007\n",
      "713   16.3          0.0  Domaine Saint-Nicolas Vin de France Blanc Les ...\n",
      "\n",
      "[714 rows x 3 columns]\n"
     ]
    }
   ],
   "source": [
    "chiffreAffaire = pd.DataFrame()\n",
    "chiffreAffaire = pd.read_sql_query(\"SELECT price,total_sales,post_title FROM erpWeb\",conn)\n",
    "print(chiffreAffaire)"
   ]
  },
  {
   "cell_type": "code",
   "execution_count": 6,
   "id": "1234745f",
   "metadata": {},
   "outputs": [
    {
     "data": {
      "text/plain": [
       "<sqlite3.Cursor at 0x14afe3f0960>"
      ]
     },
     "execution_count": 6,
     "metadata": {},
     "output_type": "execute_result"
    }
   ],
   "source": [
    "cursor.execute(\"ALTER TABLE erpWeb ADD chiffre_affaire REAL \") "
   ]
  },
  {
   "cell_type": "code",
   "execution_count": 17,
   "id": "f85b96d3",
   "metadata": {},
   "outputs": [
    {
     "name": "stdout",
     "output_type": "stream",
     "text": [
      "     price  total_sales                                         post_title  \\\n",
      "0     25.0         10.0                                  Bon cadeau de 25€   \n",
      "1     24.2          6.0        Pierre Jean Villa Saint-Joseph Préface 2018   \n",
      "2     34.3          0.0    Pierre Jean Villa Saint-Joseph Rouge Tildé 2017   \n",
      "3     20.8          0.0  Pierre Jean Villa Crozes-Hermitage Accroche Co...   \n",
      "4     14.1          3.0  Pierre Jean Villa IGP Collines Rhodaniennes Ga...   \n",
      "..     ...          ...                                                ...   \n",
      "709    8.4          5.0   Mouthes Le Bihan Côtes de Duras L'Aimé Chai 2015   \n",
      "710   27.5          0.0         Camin Larredya Jurançon Sec La Virada 2018   \n",
      "711   69.0          0.0     Domaine Jamet Côte Rôtie Fructus Voluptas 2018   \n",
      "712   54.8          0.0       Clos du Mont-Olivet Châteauneuf-du-Pape 2007   \n",
      "713   16.3          0.0  Domaine Saint-Nicolas Vin de France Blanc Les ...   \n",
      "\n",
      "     chiffreAffaire  \n",
      "0             250.0  \n",
      "1             145.2  \n",
      "2               0.0  \n",
      "3               0.0  \n",
      "4              42.3  \n",
      "..              ...  \n",
      "709            42.0  \n",
      "710             0.0  \n",
      "711             0.0  \n",
      "712             0.0  \n",
      "713             0.0  \n",
      "\n",
      "[714 rows x 4 columns]\n"
     ]
    }
   ],
   "source": [
    "chiffreAffaire['chiffreAffaire'] = chiffreAffaire['price'] *  chiffreAffaire['total_sales']\n",
    "print(chiffreAffaire)\n",
    "#affiche chiffre affaire"
   ]
  },
  {
   "cell_type": "code",
   "execution_count": 31,
   "id": "61c64029",
   "metadata": {},
   "outputs": [
    {
     "data": {
      "image/png": "[encoded data removed]",
      "text/plain": [
       "<Figure size 432x288 with 1 Axes>"
      ]
     },
     "metadata": {
      "needs_background": "light"
     },
     "output_type": "display_data"
    }
   ],
   "source": [
    "plt.plot(chiffreAffaire.index,chiffreAffaire['chiffreAffaire'])\n",
    "plt.show()\n",
    "#montre outliers"
   ]
  },
  {
   "cell_type": "code",
   "execution_count": null,
   "id": "c71aae6e",
   "metadata": {},
   "outputs": [],
   "source": [
    "cursor.execute(\"INSERT INTO erpWeb (chiffreAffaire) VALUES('Bud Powell');\""
   ]
  }
 ],
 "metadata": {
  "kernelspec": {
   "display_name": "Python 3",
   "language": "python",
   "name": "python3"
  },
  "language_info": {
   "codemirror_mode": {
    "name": "ipython",
    "version": 3
   },
   "file_extension": ".py",
   "mimetype": "text/x-python",
   "name": "python",
   "nbconvert_exporter": "python",
   "pygments_lexer": "ipython3",
   "version": "3.8.8"
  }
 },
 "nbformat": 4,
 "nbformat_minor": 5
}
